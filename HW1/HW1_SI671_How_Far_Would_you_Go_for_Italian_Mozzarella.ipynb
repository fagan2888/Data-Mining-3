{
 "cells": [
  {
   "cell_type": "markdown",
   "metadata": {
    "colab_type": "text",
    "id": "U5Da6VaNY1Ct"
   },
   "source": [
    "# SI 671/721 (Fall 2020) Data Mining: Methods and Applications\n",
    "**Instructor:** Paramveer Dhillon\n",
    "\n",
    "**GSIs**: Lingyun Guo, Kwame Porter Robinson\n",
    "\n",
    "**Homework 1:** How Far Would You Go for Italian Mozzarella? Exploring the impact of product cost and purchase frequency on distance traveled by Italian consumers\n",
    "\n",
    "**Due:** 10.5.2020\n",
    "\n",
    "**Total Points:** 100"
   ]
  },
  {
   "cell_type": "markdown",
   "metadata": {
    "colab_type": "text",
    "id": "S7ldmpJ2ZvmA"
   },
   "source": [
    "# 1 Summary\n",
    "\n",
    "We will use the supermarket dataset described in Pennacchioli et al. (2013) for this homework [1]. The dataset was obtained from one of the largest Italian retail distribution companies, _Coop_. It includes three space delimited files:\n",
    "  * `supermarket_distances` A matrix of distances for customers and visited stores.\n",
    "  * `supermarket_prices` A matrix of prices and products.\n",
    "  * `supermarket_purchases` A transaction matrix of customers, products, visited stores, as well as the quantity of purchased products.\n",
    "\n",
    "We will use concepts from data mining to explore interesting associations within the dataset. This exploration will support our investigation into the effects of product cost, purchase frequency on the distance traveled by Italian consumers.\n",
    "\n",
    "We recommend that you use Jupyter notebooks and Python libraries `Pandas` and `Scipy` for this homework. We also recommend that you use`Numpy`, `Matplotlib`, `Seaborn`, and `apyori`. However, feel free to use whatever language and library that you would like.\n",
    "\n",
    "**Your Jupyter notebook should contain for each answer a few line description of your solution or approach along with any code. Do not only submit code.**\n",
    "\n",
    "References:\n",
    "\n",
    "[1] Pennacchioli et al. \"Explaining the product range effect in purchase data\" (2013) BigData. DOI: [doi.org/10.1109/BigData.2013.6691634](https://doi.org/10.1109/BigData.2013.6691634)"
   ]
  },
  {
   "cell_type": "markdown",
   "metadata": {
    "colab_type": "text",
    "id": "zr_WxwimdMWP"
   },
   "source": [
    "# 2 Details\n",
    "\n",
    "This homework is divided into two parts.\n",
    "\n",
    "Part 1. Data Exploration\n",
    "\n",
    "Part 2. Exploring product frequency, price and distance traveled"
   ]
  },
  {
   "cell_type": "markdown",
   "metadata": {
    "colab_type": "text",
    "id": "Wa_8t4FOesT7"
   },
   "source": [
    "# 2.1 Part 1: Data Exploration [50 Points]\n",
    "This part of the homework is designed to help you familiarize yourself with the datasets and basic concepts of itemset mining. The insights from this part of the homework will help you in Part 2 of the homework."
   ]
  },
  {
   "cell_type": "markdown",
   "metadata": {
    "colab_type": "text",
    "id": "0k97b-tNe6UL"
   },
   "source": [
    "### 2.1.1: Better understand the _Coop_ supermarket dataset\n",
    "\n",
    " a) [5 points] To gain more insight into the dataset and problem motivation, please read the following: \n",
    " *  The `Introduction` section of [Pennacchioli et al. \"Explaining the product range effect in purchase data\" (2013) BigData.](http://www.michelecoscia.com/wp-content/uploads/2013/09/geocoop.pdf)\n",
    " * A deeper explanation  of the [*Supermarket Data* here](http://www.michelecoscia.com/?page_id=379)\n",
    " \n",
    "**Paper Overview**\n",
    "\n",
    ">This paper  attempts to predict customer behavior when shopping to large retailers. Basically, there is a range effect. Customers are willing to travel furhter distances for certain products (less common ones). This distance effect is not driven by price nor frequency. Instead, it is driven by a sophistication metric which is a way to quantify the complex personal needs/wants that push an individual to go to a greater distance for a specific product.\n",
    "\n",
    "\n",
    "b) [5 points] Download [the supermarket dataset here](http://michelecoscia.com/wp-content/uploads/2013/02/supermarket_data.zip). The dataset is ~65 megabytes big. We refer to the entire dataset as *S* or *Supermarket*. You may do this in code or manually.\n",
    "\n",
    "**Downaloaded manually** \n",
    "> I downloaded the dataset manually into my computer from website. "
   ]
  },
  {
   "cell_type": "markdown",
   "metadata": {},
   "source": [
    "c). [13 points] Briefly describe how the files and fields in the supermarket dataset are related. For each file be sure to detail what the file generally covers and what each field represents. \n",
    "\n",
    "Also, the `supermarket_purchases` has a large number of rows. To reduce memory usage and future algorithmic runtime in Part 2 use a method that randomly reads in ~50% of the total rows (e.g. does not read in the entire file into memory but samples from the file as it is read); in `pandas` this would be the `skip_rows` argument to `read_csv`. Before reading in the file seed the random generator with a value of 671 (e.g. `random.seed(671)`) so that your sample is reproducible.\n",
    "\n",
    "**Overall Description**\n",
    "\n",
    ">There are a total of 3 datasets with data from one  of the major chain stores in Italy (Coop). This data spans from January 2007 to December 2011. The main goal of the analysis is to be able to analyze distances between customers and stores. More specifically, we want to be able to understand what products push customers to seek stores on further distances exlcuding price & frequency of purchase as motivating factors. The problem comes down to creating a sophistication metric that can aid in predicting wethere a customer will/will not go to an alternative further store. Such metric is influenced by deep complex human behaviour & can be reppresented through the concept of lift. \n",
    "\n",
    "**supermarket_distances**\n",
    "\n",
    ">This dataset has total of (301830) rows. There are a total of three columns and such ones being: customer_id, shop_id & distance. Customer_id represents a specific customer that is linked with a particular membership card. Shop_id represents the specific Coop facility. Distance represents the distance between a customer & a specic Coop store.  The distance is measured in meters & in a straight line format. \n",
    "\n",
    "**supermarket_prices**\n",
    "\n",
    ">This dataset has a total of 4566 rows. There are a total of two colums and such ones being: product_id & price. Product_id represents the identifier for a particular product, whereas the price reppresents the average price (in Euro) for that product. The price is reflective for the time span of the dataset. \n",
    "\n",
    "**supermarket_purchases**\n",
    "\n",
    ">This dataset has a total of 24638724rows. There are a total of four columns and such ones being:\n",
    "customer_id, product_id, shop_id & quantity. The customer_id, product_id & shop_id are analogous to the previoulsy described names. Quantity represents the total amount of items that the customer bought the product in that particular shop. "
   ]
  },
  {
   "cell_type": "code",
   "execution_count": 5,
   "metadata": {},
   "outputs": [
    {
     "name": "stdout",
     "output_type": "stream",
     "text": [
      "   customer_id  shop_id     distance\n",
      "0            1        1  4082.522163\n",
      "1            1        2   985.876199\n",
      "2            1        3  2372.096966\n",
      "3            1        4  4929.804616\n",
      "4            1        5  3284.386737\n",
      "   product_id  price\n",
      "0           1  4.130\n",
      "1           2  2.189\n",
      "2           3  3.349\n",
      "3           4  4.682\n",
      "4           5  1.615\n",
      "   customer_id  product_id  shop_id  quantity\n",
      "0            1         112        1         3\n",
      "1            1         112        2        16\n",
      "2            1         113        2         2\n",
      "3            1         114        2         1\n",
      "4            1         133        1         1\n"
     ]
    }
   ],
   "source": [
    "'''\n",
    "Code Description: Read files through CSV function \n",
    "'''\n",
    "\n",
    "import pandas as pd\n",
    "import numpy as np\n",
    "import random\n",
    "random.seed(671)\n",
    "#index = np.random.randint(1, 24638723, 12319362) #50% of data (still too big for my machine)\n",
    "#index= index.tolist()\n",
    "#purchases = pd.read_csv('supermarket_purchases.csv',sep='\\s+', skip_rows = index) , this was giving an error\n",
    "\n",
    "distance = pd.read_csv('supermarket_distances.csv',sep='\\s+')\n",
    "prices= pd.read_csv('supermarket_prices.csv',sep='\\s+')\n",
    "purchases = pd.read_csv('supermarket_purchases.csv',sep='\\s+', nrows=1231936)\n",
    "\n",
    "#Peak of datasets\n",
    "print(distance.head())\n",
    "print(prices.head())\n",
    "print(purchases.head())"
   ]
  },
  {
   "cell_type": "markdown",
   "metadata": {},
   "source": [
    "\n",
    "### 2.1.2: Exploratory Data Analysis (EDA)\n",
    "(Part I, continued)\n",
    "\n",
    "We want to better understand the data driven relationships within the dataset. To do so we will plot the distributions of key variables of interest and describe them. Some of the following questions can be answered through plots, histograms and/or pairwise plots. You may use other EDA plots and tools as desired as long as you describe what is observed and explain possible causes for what you observe. \n",
    "\n",
    "d) [5 points] For `supermarket_distances`, please describe the shape of the `distance` distribution; is it normal? is it bi-modal? is it skewed? Briefly speculate why or why not your description is justified.\n",
    "\n",
    ">As the histogram below is able to show, the metric 'Distance' follows approximately a **Unimodal right skewed distribution** with a mean of: *2093.80* and a median of: *2362.70*. Now, this could be indicative that the majority of the times the customer shop around their local stores (common items (i.e food, bread, pasta)), but sometimes customers are willing to travel further distances given *complex personal needs* for more advanced products (i.e tv, coat, dvd). As a result, we get this skewed right distribution in which the majority of the shopping for basics happens near, and some of the shopping for more selective products happens at furhter stores. Finally, if we consider the left side (wrt median), we have a few customer who do not deviate much from their local stores. Perhaps, these could be old folks not too excited about experimenting with new things in their life, they're happy with bread (super speculation). "
   ]
  },
  {
   "cell_type": "code",
   "execution_count": 4,
   "metadata": {},
   "outputs": [
    {
     "data": {
      "image/png": "[encoded data removed]",
      "text/plain": [
       "<Figure size 432x288 with 1 Axes>"
      ]
     },
     "metadata": {
      "needs_background": "light"
     },
     "output_type": "display_data"
    },
    {
     "name": "stdout",
     "output_type": "stream",
     "text": [
      "Median:  2093.80327904\n",
      "Mean:  2362.7070819558767\n"
     ]
    }
   ],
   "source": [
    "'''\n",
    "Code Description\n",
    "-----------------\n",
    "Distance:\n",
    "    - Get distance measurements from dataset, compute [mean, median], and plot histogram.\n",
    "'''\n",
    "\n",
    "import matplotlib.pyplot as plt\n",
    "sup_dis = distance['distance']\n",
    "\n",
    "_= plt.hist(sup_dis,  histtype='bar', align='mid', orientation='vertical', color='yellow', label=None, edgecolor= 'k')\n",
    "_=plt.xlabel('Distance in meters')\n",
    "_=plt.ylabel('Frequency')\n",
    "_=plt.title('Distance Distribution of Coop Store', fontweight='bold')\n",
    "_= plt.axvline(sup_dis.mean(), color='red', linestyle='dashed', linewidth=2, label='mean')\n",
    "_= plt.axvline(sup_dis.median(), color='green', linestyle='dashed', linewidth=2, label='median')\n",
    "_=plt.legend()\n",
    "plt.show()\n",
    "print('Median: ', sup_dis.median())\n",
    "print('Mean: ', sup_dis.mean())"
   ]
  },
  {
   "cell_type": "markdown",
   "metadata": {},
   "source": [
    "e) [5 points] For `supermarket_prices`, please describe the shape of the `price` distribution; is it normal? is it bi-modal? is it skewed? Briefly speculate why or why not your description is justified.\n",
    "\n",
    ">As the histogram below is able to show, the prices follow a much more streesed **right skewed** distribution with a mean of 13.86 euro and a median of 4.06 euro. In the prices case, we have a skew that is much more apparent with 80/90 %  of products  costing between 0 -20 eruros, and a minority of products that have extreme cost (i.e >20).  Now, given that COOP is a supermarket chain, most of its products are indeed related to food. Often times, a single food product raraly surpasses the 20 euro margin (there are excpetions of course). Also, Coop offers additional products (fewer than food) outside of the food category, and these ones having higher cost skew the distribution to the right as witnessed in the histogram below.  "
   ]
  },
  {
   "cell_type": "code",
   "execution_count": 5,
   "metadata": {},
   "outputs": [
    {
     "name": "stdout",
     "output_type": "stream",
     "text": [
      "Median:  4.055\n",
      "Mean:  13.86325574775564\n"
     ]
    },
    {
     "data": {
      "image/png": "[encoded data removed]",
      "text/plain": [
       "<Figure size 432x288 with 1 Axes>"
      ]
     },
     "metadata": {
      "needs_background": "light"
     },
     "output_type": "display_data"
    }
   ],
   "source": [
    "'''\n",
    "Code Description\n",
    "-----------------\n",
    "Price:\n",
    "    -Get price measurements from dataset,compute [mean, median], and plot histogram.\n",
    "'''\n",
    "\n",
    "import matplotlib.pyplot as plt\n",
    "sup_price = prices['price']\n",
    "\n",
    "fig, ax = plt.subplots()\n",
    "_= ax.hist(sup_price, bins=10, histtype='bar', align='mid', orientation='vertical', color='orange', label=None, \n",
    "            edgecolor= 'k', range=[0,100])\n",
    "_=ax.set_xlabel('Price in Euros')\n",
    "_=ax.set_ylabel('Frequency')\n",
    "_=ax.set_title('Price Distribution of Coop Store', fontweight='bold')\n",
    "_= ax.axvline(sup_price.mean(), color='red', linestyle='dashed', linewidth=2, label='mean')\n",
    "_= ax.axvline(sup_price.median(), color='green', linestyle='dashed', linewidth=2, label='median')\n",
    "_=ax.legend()\n",
    "\n",
    "print('Median: ', sup_price.median())\n",
    "print('Mean: ', sup_price.mean())\n",
    "\n",
    "plt.show()"
   ]
  },
  {
   "cell_type": "markdown",
   "metadata": {},
   "source": [
    "f) [17 points] In (e) you investigated the shape of the `supermarket_prices` distribution. For efficiency purposes, first take a random sample of 10,000 customers. \n",
    "\n",
    "Then create a subset, $C_{lower}$, of customers for those customers that spent less than average on products. Create a subset, $C_{higher}$, of customers that spent more than average on products. \n",
    "\n",
    "**Does the average `distance` traveled differ across these subsets?**\n",
    "> Yes, both results are extremely different. The Clower group has a mean 1719.87 meters, whereas the Chigher group\n",
    "has a mean of 1539.37 meters. At first glance, these results do indeed appear different from one another. \n",
    "\n",
    "**Is this difference _significant_ (show your work using a 95% confidence interval)?**\n",
    ">Conclusion: With a t-value of 6.40 which yields a p-value of ~0, with a 95% confidence interval we can conclude that\n",
    "the results are statistically significant. Hence, the two means are (statistically) different. \n",
    "\n",
    "**In your answer include why or why not your explanation is justified.**\n",
    "> I was expecting the distance to be higher for products that are higher than average purchases. Instead, I've gotten the opposite trend- products in Clower tend to have a higher distance than products in Chigher. The reason for such results could be a) I have caluclated the 'average' wrong. I have retried this problem quite a few times and updated my solution a fair  amount  of times according to piazza/GSI help. Hence, it wouldn't surprise me to have gotten this wrong; b) customers might be purchasing primary products in multiple locations driving the average distance high. The results could be indeed reflective of a plausible (but unlikely) scenario."
   ]
  },
  {
   "cell_type": "code",
   "execution_count": 6,
   "metadata": {},
   "outputs": [],
   "source": [
    "'''\n",
    "Code Description\n",
    "------------------\n",
    "Random Sample\n",
    "    - Generate a list of index from 0 to 1231935 (total # of observations in dataset)\n",
    "    - Shuffle  (this gives a random order)\n",
    "    - Take only first 10,000 elements (this will be in random order)\n",
    "    \n",
    "Average spent by each customer\n",
    "    - Loop over each customer (customer_id)\n",
    "    - Loop over every product purchased by customer (product_id)\n",
    "        - get the price (price*quantity)\n",
    "            - Append price to a temp list (repeeat for all products)\n",
    "        - Take average, and append to final list  (my_prices)\n",
    "    - Final list has the average purchase by each customer, taking the mean of this gives us the cut point to create \n",
    "      Clower/Chigher\n",
    "\n",
    "Assign Clower/Chigher\n",
    "    - Once again loop over each customer in the dataset, find out their average purchase as in the previous step\n",
    "    - Find out whether they've spend more or less than the average/typical purchase\n",
    "    - Create a new column in dataset (Cgroup)\n",
    "    - Assing to Clower if customer's average purchase is smaller than the typical purchase\n",
    "    - Assing to Chighger if customer's average purchase is higher than the typical purchase\n",
    "    \n",
    "Distance \n",
    "    - Loop over each observation in Clower/Chigher\n",
    "    - Get distance of each purchase (customer_id, shop_id)\n",
    "    - Append distance to Clower/Chigher list \n",
    "    \n",
    "T test\n",
    "    - Compare Clower/Chigher data if different through scipy library\n",
    "'''\n",
    "\n",
    "import numpy as np\n",
    "import random\n",
    "random.seed(671)\n",
    "\n",
    "#Get random indexs\n",
    "my_random = list(range(0,1231935))        \n",
    "random.shuffle(my_random)\n",
    "index= sorted(my_random[0:10000])\n",
    "\n",
    "#Subset of 10,000\n",
    "my_purchases = purchases[purchases.index.isin(index)]\n",
    "\n",
    "#All customer\n",
    "my_customers = sorted(set(my_purchases['customer_id']))\n",
    "\n",
    "my_prices = []\n",
    "#Check each customer's purchases\n",
    "for x in my_customers:\n",
    "    #Items purchased by customer x\n",
    "    current_cust = my_purchases[my_purchases['customer_id'] == x]\n",
    "    temp_price = []\n",
    "    \n",
    "    #Find average of each product purchased  by customer X\n",
    "    x_products = sorted(set(current_cust['product_id']))\n",
    "    \n",
    "    for y in x_products:\n",
    "        #Subset of all prodcuts having id == y\n",
    "        x_cust_x_product= current_cust[current_cust['product_id']==y]\n",
    "        \n",
    "        #Iterate over all rows of the same product, get price (price* quantity)\n",
    "        for index, row in x_cust_x_product.iterrows():\n",
    "            price= float(prices[prices['product_id'] == row['product_id']]['price'])*row['quantity']\n",
    "            temp_price.append(price)\n",
    "            \n",
    "    #Average (total/unique products)\n",
    "    my_prices.append(np.mean(temp_price))          "
   ]
  },
  {
   "cell_type": "code",
   "execution_count": 7,
   "metadata": {},
   "outputs": [
    {
     "data": {
      "text/html": [
       "<div>\n",
       "<style scoped>\n",
       "    .dataframe tbody tr th:only-of-type {\n",
       "        vertical-align: middle;\n",
       "    }\n",
       "\n",
       "    .dataframe tbody tr th {\n",
       "        vertical-align: top;\n",
       "    }\n",
       "\n",
       "    .dataframe thead th {\n",
       "        text-align: right;\n",
       "    }\n",
       "</style>\n",
       "<table border=\"1\" class=\"dataframe\">\n",
       "  <thead>\n",
       "    <tr style=\"text-align: right;\">\n",
       "      <th></th>\n",
       "      <th>customer_id</th>\n",
       "      <th>product_id</th>\n",
       "      <th>shop_id</th>\n",
       "      <th>quantity</th>\n",
       "      <th>Cgroup</th>\n",
       "    </tr>\n",
       "  </thead>\n",
       "  <tbody>\n",
       "    <tr>\n",
       "      <th>3</th>\n",
       "      <td>1</td>\n",
       "      <td>114</td>\n",
       "      <td>2</td>\n",
       "      <td>1</td>\n",
       "      <td>lower</td>\n",
       "    </tr>\n",
       "    <tr>\n",
       "      <th>27</th>\n",
       "      <td>1</td>\n",
       "      <td>335</td>\n",
       "      <td>2</td>\n",
       "      <td>1</td>\n",
       "      <td>lower</td>\n",
       "    </tr>\n",
       "    <tr>\n",
       "      <th>170</th>\n",
       "      <td>1</td>\n",
       "      <td>1654</td>\n",
       "      <td>1</td>\n",
       "      <td>2</td>\n",
       "      <td>lower</td>\n",
       "    </tr>\n",
       "    <tr>\n",
       "      <th>268</th>\n",
       "      <td>1</td>\n",
       "      <td>2019</td>\n",
       "      <td>2</td>\n",
       "      <td>5</td>\n",
       "      <td>lower</td>\n",
       "    </tr>\n",
       "    <tr>\n",
       "      <th>301</th>\n",
       "      <td>1</td>\n",
       "      <td>2258</td>\n",
       "      <td>2</td>\n",
       "      <td>1</td>\n",
       "      <td>lower</td>\n",
       "    </tr>\n",
       "    <tr>\n",
       "      <th>413</th>\n",
       "      <td>1</td>\n",
       "      <td>3188</td>\n",
       "      <td>2</td>\n",
       "      <td>1</td>\n",
       "      <td>lower</td>\n",
       "    </tr>\n",
       "    <tr>\n",
       "      <th>975</th>\n",
       "      <td>2</td>\n",
       "      <td>2779</td>\n",
       "      <td>5</td>\n",
       "      <td>1</td>\n",
       "      <td>lower</td>\n",
       "    </tr>\n",
       "    <tr>\n",
       "      <th>998</th>\n",
       "      <td>2</td>\n",
       "      <td>2801</td>\n",
       "      <td>5</td>\n",
       "      <td>15</td>\n",
       "      <td>lower</td>\n",
       "    </tr>\n",
       "    <tr>\n",
       "      <th>1022</th>\n",
       "      <td>2</td>\n",
       "      <td>2997</td>\n",
       "      <td>5</td>\n",
       "      <td>2</td>\n",
       "      <td>lower</td>\n",
       "    </tr>\n",
       "    <tr>\n",
       "      <th>1323</th>\n",
       "      <td>3</td>\n",
       "      <td>1115</td>\n",
       "      <td>1</td>\n",
       "      <td>1</td>\n",
       "      <td>lower</td>\n",
       "    </tr>\n",
       "  </tbody>\n",
       "</table>\n",
       "</div>"
      ],
      "text/plain": [
       "      customer_id  product_id  shop_id  quantity Cgroup\n",
       "3               1         114        2         1  lower\n",
       "27              1         335        2         1  lower\n",
       "170             1        1654        1         2  lower\n",
       "268             1        2019        2         5  lower\n",
       "301             1        2258        2         1  lower\n",
       "413             1        3188        2         1  lower\n",
       "975             2        2779        5         1  lower\n",
       "998             2        2801        5        15  lower\n",
       "1022            2        2997        5         2  lower\n",
       "1323            3        1115        1         1  lower"
      ]
     },
     "execution_count": 7,
     "metadata": {},
     "output_type": "execute_result"
    }
   ],
   "source": [
    "import warnings\n",
    "warnings.filterwarnings(\"ignore\")\n",
    "\n",
    "my_purchases['Cgroup']=0\n",
    "#Assign Customer to Clower or Chigher\n",
    "#Check each customer's purchases\n",
    "for x in my_customers:\n",
    "    #Items purchased by customer x\n",
    "    current_cust = my_purchases[my_purchases['customer_id'] == x]\n",
    "    temp_price = []\n",
    "    \n",
    "    #Find average of each product purchased  by customer X\n",
    "    x_products = sorted(set(current_cust['product_id']))\n",
    "    \n",
    "    for y in x_products:\n",
    "        #Subset of all prodcuts having id == y\n",
    "        x_cust_x_product= current_cust[current_cust['product_id']==y]\n",
    "        \n",
    "        #Iterate over all rows of the same product, get price (price* quantity)\n",
    "        for index, row in x_cust_x_product.iterrows():\n",
    "            price= float(prices[prices['product_id'] == row['product_id']]['price'])*row['quantity']\n",
    "            temp_price.append(price)\n",
    "            \n",
    "    #Average (total/unique products)\n",
    "    average = (np.mean((temp_price)))\n",
    "\n",
    "    #Assign to Clower/Chigher\n",
    "    if(average<np.mean(my_prices)):\n",
    "        my_purchases.loc[my_purchases.customer_id == x, 'Cgroup'] = 'lower'\n",
    "    else:\n",
    "         my_purchases.loc[my_purchases.customer_id == x, 'Cgroup'] = 'higher'\n",
    "my_purchases.head(10)"
   ]
  },
  {
   "cell_type": "code",
   "execution_count": 8,
   "metadata": {},
   "outputs": [],
   "source": [
    "#Distance\n",
    "Clower= my_purchases[my_purchases['Cgroup']=='lower']\n",
    "Chigher= my_purchases[my_purchases['Cgroup']=='higher']\n",
    "\n",
    "#Find distance \n",
    "Clower_distance = []\n",
    "\n",
    "#Iterate over all rows of the same product, get distance, compute average\n",
    "for index, row in Clower.iterrows():\n",
    "    i=row['customer_id']\n",
    "    j= row['shop_id']\n",
    "            \n",
    "    #Locate distance for product, from customer & shop_id\n",
    "    temp_dist = float(distance[(distance.customer_id == i) & (distance.shop_id== j)]['distance'])\n",
    "            \n",
    "    #Average distance \n",
    "    Clower_distance.append(temp_dist) "
   ]
  },
  {
   "cell_type": "code",
   "execution_count": 9,
   "metadata": {},
   "outputs": [],
   "source": [
    "Chigher_distance = []\n",
    "#Iterate over all rows of the same product, get distance, compute average\n",
    "for index, row in Chigher.iterrows():\n",
    "    i=row['customer_id']\n",
    "    j= row['shop_id']\n",
    "            \n",
    "    #Locate distance for product, from customer & shop_id\n",
    "    temp_dist = float(distance[(distance.customer_id == i) & (distance.shop_id== j)]['distance'])\n",
    "            \n",
    "    #Average distance of top 20 products by customer x\n",
    "    Chigher_distance.append(temp_dist) \n"
   ]
  },
  {
   "cell_type": "code",
   "execution_count": 10,
   "metadata": {},
   "outputs": [
    {
     "name": "stdout",
     "output_type": "stream",
     "text": [
      "Clower mean:  1719.8685615764716\n",
      "Chigher mean:  1539.3669319202975\n",
      "t-value = 6.296246177182384\n",
      "p-value = 3.177502304559135e-10\n"
     ]
    },
    {
     "data": {
      "text/plain": [
       "'Conclusion: With a t-value of 6.39 which yields a p-value of ~0, with a 95% confidence interval we can conclude that the results are statistically significant. Hence, the two means are (statistically) different.'"
      ]
     },
     "execution_count": 10,
     "metadata": {},
     "output_type": "execute_result"
    }
   ],
   "source": [
    "from scipy import stats\n",
    "#Does the average distance traveled differ across these subsets? \n",
    "'''At first glance, these results do indeed appear different from one another. '''\n",
    "\n",
    "print('Clower mean: ', np.mean(Clower_distance))\n",
    "print('Chigher mean: ', np.mean(Chigher_distance))\n",
    "\n",
    "#T-test with scipy (show your work using a 95% confidence interval)\n",
    "''' Independent Samples t-test given we want to determine whther two means are statistically significant different\n",
    "    Confidence Level = 95% , Alpha = 0.05 \n",
    "    \n",
    "    mu1 = Clower group\n",
    "    mu2 = Chigher group\n",
    "    \n",
    "    H0: mu1 = mu2\n",
    "    HA: mu1 != mu2 (i.e the two means are significantly different)\n",
    "    \n",
    "    t-stat: (mu1 - mu2)/ Sqrt( S1^2/n1 +S2^2/n2)\n",
    "            S^2 = sum(x-Mu)/n-1\n",
    "    \n",
    "    p-value: probability of getting a result as extreme as the observed.    \n",
    "'''\n",
    "t2, p2 = stats.ttest_ind(Clower_distance,Chigher_distance)\n",
    "print(\"t-value = \" + str(t2))\n",
    "print(\"p-value = \" + str(p2))\n",
    "\n",
    "\n",
    "#Is this difference significant?\n",
    "'''Conclusion: With a t-value of 6.39 which yields a p-value of ~0, with a 95% confidence interval we can conclude that the results are statistically significant. Hence, the two means are (statistically) different.'''"
   ]
  },
  {
   "cell_type": "markdown",
   "metadata": {},
   "source": [
    "\n",
    "**The main deliverable** for this part of the homework is 1) a step-by-step exploration and answers within a Jupyter Notebook, 2) a PDF document containing the answers to each of the questions above (this can be a PDF version of your Jupyter notebook)."
   ]
  },
  {
   "cell_type": "markdown",
   "metadata": {},
   "source": [
    "# 2.2 Part 2: Applying Itemset Mining [50 Points]\n",
    "\n",
    "For this part of the homework you will use itemset mining techniques to explore various relationships to the distance traveled by customers. Using the \"language\" of these data mining techniques to describe and justify patterns observed in a dataset is one of the primary contributions a data scientist can make in industry.\n",
    "\n",
    "a) [6 Points] For all products sold what are the top 20 most frequent products?\n",
    "\n",
    "> **ITEM_ID, FREQUENCY**  [(112, 88012), (2098, 82311), (2358, 79597), (1645, 75834), (1669, 60061), (1930, 59663), (1234, 53785), (2096, 52469), (2824, 52413), (355, 48774), (2114, 45371), (3041, 43063), (2831, 40424), (710, 36659), (363, 36535), (2355, 35034), (2649, 34777), (1654, 34759), (2033, 33261), (1240, 32084)]"
   ]
  },
  {
   "cell_type": "code",
   "execution_count": 29,
   "metadata": {},
   "outputs": [
    {
     "name": "stdout",
     "output_type": "stream",
     "text": [
      "ITEM_ID, FREQUENCY  [(112, 88012), (2098, 82311), (2358, 79597), (1645, 75834), (1669, 60061), (1930, 59663), (1234, 53785), (2096, 52469), (2824, 52413), (355, 48774), (2114, 45371), (3041, 43063), (2831, 40424), (710, 36659), (363, 36535), (2355, 35034), (2649, 34777), (1654, 34759), (2033, 33261), (1240, 32084)]\n"
     ]
    }
   ],
   "source": [
    "'''\n",
    "Code Description\n",
    "------------------\n",
    "\n",
    "Find top 20 most frequent prodcuts:\n",
    "    - Create a dictionary with keys(product_id) & values (frequency_sold)\n",
    "    - Sort dictionary based on values (high values, means high frequency)\n",
    "    - Get the top 20 values from the sorted dictionary\n",
    "    - Match values to ids    \n",
    "'''\n",
    "#Create a dictionary with keys: product_id & values frequency_sold\n",
    "purchases.head()\n",
    "my_dict = dict()\n",
    "for x in range(len(purchases)):\n",
    "    y= purchases.iloc[x,1]\n",
    "    if(y in my_dict.keys()):\n",
    "        my_dict[y] += purchases.iloc[x,3]\n",
    "    else:\n",
    "        my_dict[y] = purchases.iloc[x,3]\n",
    "\n",
    "#Sort dict based on values (i.e. most_frequent)\n",
    "sorted_values= sorted(my_dict.values(), reverse = True)\n",
    "\n",
    "#Top 20 frequent \n",
    "top_20_frequency = []\n",
    "for x in range(20):\n",
    "    top_20_frequency.append(sorted_values[x])\n",
    "\n",
    "#Match ID to item frequency \n",
    "top_20_id_freq= []\n",
    "for x in top_20_frequency:\n",
    "    for item_id, freq in my_dict.items(): \n",
    "        if freq == x:\n",
    "            temp = (item_id,x)\n",
    "            top_20_id_freq.append(temp)\n",
    "\n",
    "print(\"ITEM_ID, FREQUENCY \", top_20_id_freq)"
   ]
  },
  {
   "cell_type": "markdown",
   "metadata": {},
   "source": [
    "b) [12 Points] Each top 20 product was brought by a set of customers. \n",
    "\n",
    "**What is the average distance traveled to the top 20 products by customers (that is, people traveled to get the top 20 products, how much did they travel on average)?**\n",
    "\n",
    "> The average distance traveled to the top 20 products by customers is 1677.76 meters.\n",
    "\n",
    "**What is the average distance traveled to all other products not in the top 20?**\n",
    "> The average distance traveled to all other products not in the top 20  is 1660.07\n",
    "\n",
    "**Is there a difference?**\n",
    "> The difference seems minimal with a difference of ~17 meters. \n",
    "\n",
    "**Is it a signicant difference?**\n",
    "> With a t-value of 3.21 which yields a p-value of ~0.001, with a 95% confidence interval we can conclude that the results are statistically significant. Hence, the two means are (statistically) different.\n",
    "\n"
   ]
  },
  {
   "cell_type": "code",
   "execution_count": 30,
   "metadata": {},
   "outputs": [],
   "source": [
    "'''\n",
    "Code Description\n",
    "------------------\n",
    "Average Distance top 20:\n",
    "    - Subset data, so that only items with product_id in top 20 is present (top_20_purchase)\n",
    "    - To find the distance, iterate over all products match customer_id to shop_id \n",
    "        - append result to list (top_20_average)\n",
    "    - Take average of list (top_20_average) to find average traveled distance\n",
    "    - Plot hist of top_20_average for a graphical viz\n",
    "    \n",
    "Average Distance bottom 80:\n",
    "    - Subset data, so that only items not in top 20 is present (bottom_80_purchase)\n",
    "    - To find the distance, iterate over all products match customer_id to shop_id \n",
    "        - append result to list (bottom_80_average)\n",
    "    - Take average of list (bottom_80_average) to find average traveled distance\n",
    "    - Plot hist of bottom_80_average for a graphical viz\n",
    "\n",
    "T test:\n",
    "    - Compare top_20_average/bottom_80_average data if different by using scipy t test function\n",
    "'''\n",
    "#Get ID of top 20 items\n",
    "top_20_id = []\n",
    "for x in top_20_id_freq:\n",
    "    a, b = x\n",
    "    top_20_id.append(a)\n",
    "    \n",
    "#Reduce purchase dataset to only top 20 products\n",
    "top_20_purchase = purchases[purchases['product_id'].isin(top_20_id)]\n",
    "\n",
    "top_20_average = []\n",
    "\n",
    "#Iterate over all rows of the same product, get distance, compute average\n",
    "for index, row in top_20_purchase.iterrows():\n",
    "    i=row['customer_id']\n",
    "    j= row['shop_id']\n",
    "            \n",
    "    #Locate distance for product, from customer & shop_id\n",
    "    temp_dist = float(distance[(distance.customer_id == i) & (distance.shop_id== j)]['distance'])\n",
    "            \n",
    "    #Average distance of top 20 products by customer x\n",
    "    top_20_average.append(temp_dist) "
   ]
  },
  {
   "cell_type": "code",
   "execution_count": 33,
   "metadata": {},
   "outputs": [
    {
     "name": "stdout",
     "output_type": "stream",
     "text": [
      "Mean:  1677.7632169946894\n",
      "Median:  1432.7007877\n"
     ]
    },
    {
     "data": {
      "image/png": "[encoded data removed]",
      "text/plain": [
       "<Figure size 432x288 with 1 Axes>"
      ]
     },
     "metadata": {
      "needs_background": "light"
     },
     "output_type": "display_data"
    }
   ],
   "source": [
    "fig, ax = plt.subplots()\n",
    "_= ax.hist(top_20_average, histtype='bar', align='mid', orientation='vertical', color='yellow', label=None, \n",
    "            edgecolor= 'k')\n",
    "_=ax.set_xlabel('Distance in Meters')\n",
    "_=ax.set_ylabel('Frequency')\n",
    "_=ax.set_title('Distance Distribution for Top 20', fontweight='bold')\n",
    "_= ax.axvline(np.mean(top_20_average), color='red', linestyle='dashed', linewidth=2, label='mean')\n",
    "_= ax.axvline(np.median(top_20_average), color='green', linestyle='dashed', linewidth=2, label='median')\n",
    "_=ax.legend()\n",
    "\n",
    "print('Mean: ', np.mean(top_20_average))\n",
    "print('Median: ', np.median(top_20_average))\n",
    "plt.show()"
   ]
  },
  {
   "cell_type": "code",
   "execution_count": 20,
   "metadata": {},
   "outputs": [],
   "source": [
    "import time\n",
    "import warnings\n",
    "from tqdm import tqdm_notebook as tqdm\n",
    "warnings.simplefilter(\"ignore\")\n",
    "\n",
    "#Reduce purchase dataset NOT in top 20 products\n",
    "bottom_80_purchase = purchases[~purchases['product_id'].isin(top_20_id)]\n",
    "\n",
    "bottom_80_average = []\n",
    "\n",
    "#Iterate over all rows of the same product, get distance, compute average\n",
    "for index, row in bottom_80_purchase.iterrows():\n",
    "    i=row['customer_id']\n",
    "    j= row['shop_id']\n",
    "            \n",
    "    #Locate distance for product, from customer & shop_id\n",
    "    temp_dist = float(distance[(distance.customer_id == i) & (distance.shop_id== j)]['distance'])\n",
    "            \n",
    "    #Average distance of top 20 products by customer x\n",
    "    bottom_80_average.append(temp_dist)\n",
    "\n",
    "# #Alternative code to calculate distance (same results)\n",
    "# def calculate_distance(row):\n",
    "#     i=row['customer_id']\n",
    "#     j= row['shop_id']\n",
    "            \n",
    "#     #Locate distance for product, from customer & shop_id\n",
    "#     temp_dist = float(distance[(distance.customer_id == i) & (distance.shop_id== j)]['distance'])\n",
    "#     return temp_dist\n",
    "\n",
    "# top_20_purchase['distance'] = top_20_purchase.apply(calculate_distance, axis=1)\n",
    "# bottom_80_purchase['distance'] = bottom_80_purchase.apply(calculate_distance, axis=1)\n",
    "\n",
    "# print('Mean: ', np.mean(bottom_80_purchase['distance']))\n",
    "# print('Median: ', np.median(bottom_80_purchase['distance']))\n",
    "\n",
    "# #Mean:  1660.0743626826954\n",
    "# #Median:  1386.15145014"
   ]
  },
  {
   "cell_type": "code",
   "execution_count": 202,
   "metadata": {},
   "outputs": [
    {
     "name": "stdout",
     "output_type": "stream",
     "text": [
      "Mean:  1660.0743626826954\n",
      "Median:  1386.15145014\n"
     ]
    },
    {
     "data": {
      "image/png": "[encoded data removed]",
      "text/plain": [
       "<Figure size 432x288 with 1 Axes>"
      ]
     },
     "metadata": {
      "needs_background": "light"
     },
     "output_type": "display_data"
    }
   ],
   "source": [
    "fig, ax = plt.subplots()\n",
    "_= ax.hist(bottom_80_average, histtype='bar', align='mid', orientation='vertical', color='orange', label=None, \n",
    "            edgecolor= 'k')\n",
    "_=ax.set_xlabel('Distance in Meters')\n",
    "_=ax.set_ylabel('Frequency')\n",
    "_=ax.set_title('Distance Distribution for Bottom 80', fontweight='bold')\n",
    "_= ax.axvline(np.mean(bottom_80_average), color='red', linestyle='dashed', linewidth=3, label='mean')\n",
    "_= ax.axvline(np.median(bottom_80_average), color='black', linestyle='dashed', linewidth=3, label='median')\n",
    "_=ax.legend()\n",
    "\n",
    "print('Mean: ', np.mean(bottom_80_average))\n",
    "print('Median: ', np.median(bottom_80_average))\n",
    "plt.show()"
   ]
  },
  {
   "cell_type": "code",
   "execution_count": 200,
   "metadata": {},
   "outputs": [
    {
     "name": "stdout",
     "output_type": "stream",
     "text": [
      "T-test\n",
      "t-value = 3.2132249786227027\n",
      "p-value = 0.0013125680762955793\n"
     ]
    }
   ],
   "source": [
    "#Is this difference significant?\n",
    "'''Conclusion: With a t-value of 3.21 which yields a p-value of ~0.001, with a 95% confidence interval we can conclude that\n",
    "the results are statistically significant. Hence, the two means are (statistically) different.\n",
    "'''\n",
    "t2, p2 = stats.ttest_ind(top_20_average,bottom_80_average) \n",
    "print('T-test')\n",
    "print(\"t-value = \" + str(t2))\n",
    "print(\"p-value = \" + str(p2))"
   ]
  },
  {
   "cell_type": "markdown",
   "metadata": {},
   "source": [
    "c) [6 Points] In itemset mining why would we ignore very high selling products that are readily available, like `toothbrush`? Are high selling, easily available products likely to yield high confidence and high interest association rules?\n",
    "\n",
    "> In data mining, often times we are intereseted in frequent items given that frequent items make a determinate pattern easier to be found & a frequent pattern by definition is bound to affect a good part of the population (generalize results). The way we measure this frequency is through metrics such as <u>*SUPPORT*</u> & <u>*CONFIDENCE*</u>. Generally, high support & high confidence are a measure of high item frequency. Now, when we are looking at frequent items, we are interested only on findings that are non-trivial (i.e people with beards love ice-cream, people w/o beards hate icecream). Unfortunately, when we are looking for frequent items, we encounter as well *common* items that are manily necessities of life rather than <u>*trivial*</u>. These items appear because they have HIGH confidence as well. Hence, high confidence items will produce set/rules that are trivial and uninteresting. As a result, we need metrics that allows us to look for items that are frequent AND not trivial/common. A good metric is Interest. \n",
    "\n",
    "d) [6 points] Referring to Part 1,\n",
    "\n",
    "**For $C_{lower}$ customers what are the top 20 most frequent products?**\n",
    "> [**ITEM_ID**, **FREQUENCY**] [(112, 247), (2019, 198), (2785, 170), (1645, 159), (3896, 150), (115, 145), (2824, 138), (1654, 137), (3062, 130), (1930, 125), (2098, 123), (521, 113), (1669, 110), (1677, 109), (149, 104), (2777, 103), (380, 102), (1979, 94), (2797, 94), (1660, 94), (1979, 94), (2797, 94), (1660, 94), (1979, 94), (2797, 94), (1660, 94)]\n",
    "\n",
    "**For $C_{higher}$ customers what are the top 20 most frequent products?**\n",
    "> [**ITEM_ID**, **FREQUENCY**][(2358, 680), (2114, 531), (2098, 529), (2818, 510), (364, 392), (1654, 370), (3511, 343), (2096, 338), (2028, 335), (1234, 319), (1669, 312), (521, 300), (1665, 288), (363, 283), (3041, 279), (2649, 272), (1645, 270), (443, 269), (1930, 266), (1241, 262)]\n",
    "\n"
   ]
  },
  {
   "cell_type": "code",
   "execution_count": 34,
   "metadata": {},
   "outputs": [
    {
     "name": "stdout",
     "output_type": "stream",
     "text": [
      "ITEM_ID, FREQUENCY  [(112, 247), (2019, 198), (2785, 170), (1645, 159), (3896, 150), (115, 145), (2824, 139), (1654, 137), (3062, 136), (1930, 125), (2098, 123), (521, 113), (1669, 110), (1677, 109), (149, 104), (2777, 103), (380, 102), (1979, 94), (2797, 94), (1660, 94), (355, 94), (1979, 94), (2797, 94), (1660, 94), (355, 94), (1979, 94), (2797, 94), (1660, 94), (355, 94)]\n"
     ]
    }
   ],
   "source": [
    "'''\n",
    "Code Description\n",
    "------------------\n",
    "Clower Top 20:\n",
    "    - Create a dictionary with keys(product_id) & values (frequency_sold)\n",
    "    - Sort dictionary based on values (high values, means high frequency)\n",
    "    - Get the top 20 values from the sorted dictionary\n",
    "    - Match values to ids    \n",
    "\n",
    "Chigher Top 20:\n",
    "    - Create a dictionary with keys(product_id) & values (frequency_sold)\n",
    "    - Sort dictionary based on values (high values, means high frequency)\n",
    "    - Get the top 20 values from the sorted dictionary\n",
    "    - Match values to ids \n",
    "\n",
    "'''\n",
    "#Create a dictionary with keys: product_id & values frequency_sold\n",
    "Clower_dict = dict()\n",
    "for x in range(len(Clower)):\n",
    "    y= Clower.iloc[x,1]\n",
    "    if(y in Clower_dict.keys()):\n",
    "        Clower_dict[y] += Clower.iloc[x,3]\n",
    "    else:\n",
    "        Clower_dict[y] = Clower.iloc[x,3]\n",
    "\n",
    "#Sort dict based on values (i.e. most_frequent)\n",
    "sorted_Clower= sorted(Clower_dict.values(), reverse = True)\n",
    "\n",
    "#Top 20 frequent \n",
    "top_20_Clower = []\n",
    "for x in range(20):\n",
    "    top_20_Clower.append(sorted_Clower[x])\n",
    "\n",
    "#Match ID to item frequency \n",
    "top_20_id_freq_Clower= []\n",
    "for x in top_20_Clower:\n",
    "    for item_id, freq in Clower_dict.items(): \n",
    "        if freq == x:\n",
    "            temp = (item_id,x)\n",
    "            top_20_id_freq_Clower.append(temp)\n",
    "\n",
    "print(\"ITEM_ID, FREQUENCY \", top_20_id_freq_Clower)"
   ]
  },
  {
   "cell_type": "code",
   "execution_count": 37,
   "metadata": {},
   "outputs": [
    {
     "name": "stdout",
     "output_type": "stream",
     "text": [
      "ITEM_ID, FREQUENCY  [(2358, 680), (2114, 531), (2098, 529), (2818, 510), (364, 392), (1654, 370), (3511, 343), (2096, 338), (2028, 335), (1234, 319), (1669, 312), (521, 300), (1665, 288), (363, 283), (3041, 279), (2649, 272), (1645, 270), (443, 269), (1930, 266), (1241, 262)]\n"
     ]
    }
   ],
   "source": [
    "#Create a dictionary with keys: product_id & values frequency_sold\n",
    "Chigher_dict = dict()\n",
    "for x in range(len(Chigher)):\n",
    "    y= Chigher.iloc[x,1]\n",
    "    if(y in Chigher_dict.keys()):\n",
    "        Chigher_dict[y] += Chigher.iloc[x,3]\n",
    "    else:\n",
    "        Chigher_dict[y] = Chigher.iloc[x,3]\n",
    "    \n",
    "#Sort dict based on values (i.e. most_frequent)\n",
    "sorted_Chigher= sorted(Chigher_dict.values(), reverse = True)\n",
    "\n",
    "#Top 20 frequent \n",
    "top_20_Chigher = []\n",
    "for x in range(20):\n",
    "    top_20_Chigher.append(sorted_Chigher[x])\n",
    "\n",
    "#Match ID to item frequency \n",
    "top_20_id_freq_Chigher= []\n",
    "for x in top_20_Chigher:\n",
    "    for item_id, freq in Chigher_dict.items(): \n",
    "        if freq == x:\n",
    "            temp = (item_id,x)\n",
    "            top_20_id_freq_Chigher.append(temp)\n",
    "\n",
    "print(\"ITEM_ID, FREQUENCY \", top_20_id_freq_Chigher)"
   ]
  },
  {
   "cell_type": "markdown",
   "metadata": {},
   "source": [
    "e) [20 points total] Imagine that _Coop_ wants to negotiate a better deal from its suppliers. To argue for a better deal, Coop wants to ask for bulk discounts on _groups_ of products. Coop only cares about the top 5 products sold by quantity found in 2(d) above.\n",
    "\n",
    "To help justify what groups of products should be considered Coop has asked you:\n",
    "\n",
    " * [worth 7 points] For $C_{lower}$ customers, using the Apriori algorithm, what are the most frequent itemsets that are purchased from stores? For computational efficiency only run the algorithm on data containing the products in $C_{lower}$'s top 5 most frequently sold products.\n",
    " \n",
    "> **Total rules:  31** \n",
    "Rule  1 :  [2785, 2019, 1645, 112, 3896]\n",
    "Rule  2 :  [3896, 2785, 2019, 1645]\n",
    "Rule  3 :  [112, 2785, 3896, 2019]\n",
    "Rule  4 :  [112, 2785, 3896, 1645]\n",
    "Rule  5 :  [112, 3896, 2019, 1645]\n",
    "Rule  6 :  [112, 2785, 2019, 1645]\n",
    "Rule  7 :  [3896, 2785, 2019]\n",
    "Rule  8 :  [3896, 2785, 1645]\n",
    "Rule  9 :  [3896, 2019, 1645]\n",
    "Rule  10 :  [2785, 2019, 1645]\n",
    "Rule  11 :  [112, 2785, 3896]\n",
    "Rule  12 :  [112, 3896, 2019]\n",
    "Rule  13 :  [112, 2785, 2019]\n",
    "Rule  14 :  [112, 3896, 1645]\n",
    "Rule  15 :  [112, 2785, 1645]\n",
    "Rule  16 :  [112, 2019, 1645]\n",
    "Rule  17 :  [3896, 2785]\n",
    "Rule  18 :  [3896, 2019]\n",
    "Rule  19 :  [2785, 2019]\n",
    "Rule  20 :  [3896, 1645]\n",
    "Rule  21 :  [2785, 1645]\n",
    "Rule  22 :  [2019, 1645]\n",
    "Rule  23 :  [112, 3896]\n",
    "Rule  24 :  [112, 2785]\n",
    "Rule  25 :  [112, 2019]\n",
    "Rule  26 :  [112, 1645]\n",
    "Rule  27 :  [3896]\n",
    "Rule  28 :  [2785]\n",
    "Rule  29 :  [2019]\n",
    "Rule  30 :  [1645]\n",
    "Rule  31 :  [112]\n",
    "\n",
    "\n",
    " * [worth 7 points] For $C_{higher}$ customers, using and Apriori algorithm, what are the most frequent itemsets that are purchased from stores? For computational efficiency only run the algorithm on data containing the products in $C_{higher}$'s top 5 most frequently sold products.\n",
    " \n",
    "> **Total rules:  22**\n",
    "Rule  1 :  [2098, 2818, 2114, 2358]\n",
    "Rule  2 :  [2098, 364, 2114, 2358]\n",
    "Rule  3 :  [2114, 2818, 2358]\n",
    "Rule  4 :  [2098, 2818, 2358]\n",
    "Rule  5 :  [2098, 2818, 2114]\n",
    "Rule  6 :  [2098, 2114, 2358]\n",
    "Rule  7 :  [2114, 364, 2358]\n",
    "Rule  8 :  [2098, 364, 2358]\n",
    "Rule  9 :  [2098, 364, 2114]\n",
    "Rule  10 :  [2818, 2358]\n",
    "Rule  11 :  [2114, 2818]\n",
    "Rule  12 :  [2114, 2358]\n",
    "Rule  13 :  [2098, 2818]\n",
    "Rule  14 :  [2098, 2358]\n",
    "Rule  15 :  [2098, 2114]\n",
    "Rule  16 :  [364, 2358]\n",
    "Rule  17 :  [2114, 364]\n",
    "Rule  18 :  [2098, 364]\n",
    "Rule  19 :  [2358]\n",
    "Rule  20 :  [2114]\n",
    "Rule  21 :  [2098]\n",
    "Rule  22 :  [364] \n",
    "\n",
    " * [worth 6 points] Computer similarity between the $C_{lower}$ and $C_{higher}$ itemsets using Jaccard similarity. Compare only itemsets in the top 20 ranked by confidence. Are there any itemsets have a Jaccard similarity above 0?\n",
    "\n",
    "> No itemsets have a Jaccardd similarity above 0, which does indeed make sense- none of the Clower/Chiger datasets contain products from the other (i.e. no products in common).\n",
    " \n",
    "The apriori algorithm parameters should be set to: `min_confidence=0.50`, `min_lift=1.0` and `max_length=5`\n"
   ]
  },
  {
   "cell_type": "markdown",
   "metadata": {},
   "source": [
    "#### Apriori, $C_{lower}$"
   ]
  },
  {
   "cell_type": "code",
   "execution_count": 38,
   "metadata": {},
   "outputs": [
    {
     "name": "stdout",
     "output_type": "stream",
     "text": [
      "Total rules:  31\n",
      "Rule  1 :  [2785, 2019, 1645, 112, 3896]\n",
      "Rule  2 :  [3896, 2785, 2019, 1645]\n",
      "Rule  3 :  [112, 2785, 3896, 2019]\n",
      "Rule  4 :  [112, 2785, 3896, 1645]\n",
      "Rule  5 :  [112, 3896, 2019, 1645]\n",
      "Rule  6 :  [112, 2785, 2019, 1645]\n",
      "Rule  7 :  [3896, 2785, 2019]\n",
      "Rule  8 :  [3896, 2785, 1645]\n",
      "Rule  9 :  [3896, 2019, 1645]\n",
      "Rule  10 :  [2785, 2019, 1645]\n",
      "Rule  11 :  [112, 2785, 3896]\n",
      "Rule  12 :  [112, 3896, 2019]\n",
      "Rule  13 :  [112, 2785, 2019]\n",
      "Rule  14 :  [112, 3896, 1645]\n",
      "Rule  15 :  [112, 2785, 1645]\n",
      "Rule  16 :  [112, 2019, 1645]\n",
      "Rule  17 :  [3896, 2785]\n",
      "Rule  18 :  [3896, 2019]\n",
      "Rule  19 :  [2785, 2019]\n",
      "Rule  20 :  [3896, 1645]\n",
      "Rule  21 :  [2785, 1645]\n",
      "Rule  22 :  [2019, 1645]\n",
      "Rule  23 :  [112, 3896]\n",
      "Rule  24 :  [112, 2785]\n",
      "Rule  25 :  [112, 2019]\n",
      "Rule  26 :  [112, 1645]\n",
      "Rule  27 :  [3896]\n",
      "Rule  28 :  [2785]\n",
      "Rule  29 :  [2019]\n",
      "Rule  30 :  [1645]\n",
      "Rule  31 :  [112]\n"
     ]
    }
   ],
   "source": [
    "'''\n",
    "Code Description\n",
    "------------------\n",
    "Clower top 5\n",
    "    - Find top 5 most sold in Clower (simply take first 5 elments from top 20 of previous problem)\n",
    "    - Subset data, such that only the products of Clower containing top 5 product Id are considered\n",
    "    - Index subset data by shop id\n",
    "    - Create list of list for apriori input (this code was taken from Piazza- thank you!)\n",
    "    - Run apriori alogorithm, get rules, display \n",
    "    \n",
    "CHigher top 5\n",
    "    - Find top 5 most sold in Chigher (simply take first 5 elments from top 20 of previous problem)\n",
    "    - Subset data, such that only the products of Chigher containing top 5 product Id are considered\n",
    "    - Index subset data by shop id\n",
    "    - Create list of list for apriori input (this code was taken from Piazza- thank you!)\n",
    "    - Run apriori alogorithm, get rules, display \n",
    "    \n",
    "Jaccard Similarity:\n",
    "    - Unpack apriori object & convert to pandas dataframe (get itemset & Confidence)\n",
    "        - Loop through each rule\n",
    "            - Loop through each component present in rule (get cofidence)\n",
    "    - Sort dataset by confidence & get only top 20 observations\n",
    "    - Calculate Jaccard similarity for top20 Clower/Chigher \n",
    "        - Compare each element in top20 Clower with each element of top 20 Chigher (intersection/union)\n",
    "'''\n",
    "#APRIORI\n",
    "from apyori import apriori\n",
    "my = Clower[['product_id','shop_id']]\n",
    "\n",
    "top_5_Clower = []\n",
    "for x in range(5):\n",
    "    z = top_20_id_freq_Clower[x]\n",
    "    a,b = z\n",
    "    top_5_Clower.append(a)\n",
    "\n",
    "my = my[my['product_id'].isin(top_5_Clower)]\n",
    "my.set_index('shop_id', inplace=True)\n",
    "\n",
    "my.sort_index(inplace=True)\n",
    "my_C_lower_top_5_product_ids = my\n",
    "c_lower_itemsets= [ set(my_C_lower_top_5_product_ids.loc[shop_id_index].values.flatten()) for shop_id_index in my_C_lower_top_5_product_ids.index]\n",
    "\n",
    "association_rules = apriori(c_lower_itemsets, min_confidence=0.50, min_lift=1.0, max_length=5)\n",
    "association_results = list(association_rules)\n",
    "\n",
    "# for x in range(20):\n",
    "#     print(association_results[x])\n",
    "listRules = [list(association_results[i][0]) for i in range(0,len(association_results))]\n",
    "listRules.reverse()\n",
    "print('Total rules: ',len(listRules))\n",
    "for x in range(31):\n",
    "    print('Rule ',x+1, \": \",listRules[x])"
   ]
  },
  {
   "cell_type": "markdown",
   "metadata": {},
   "source": [
    "#### Apriori, $C_{higher}$"
   ]
  },
  {
   "cell_type": "code",
   "execution_count": 39,
   "metadata": {},
   "outputs": [
    {
     "name": "stdout",
     "output_type": "stream",
     "text": [
      "Total rules:  22\n",
      "Rule  1 :  [2098, 2818, 2114, 2358]\n",
      "Rule  2 :  [2098, 364, 2114, 2358]\n",
      "Rule  3 :  [2114, 2818, 2358]\n",
      "Rule  4 :  [2098, 2818, 2358]\n",
      "Rule  5 :  [2098, 2818, 2114]\n",
      "Rule  6 :  [2098, 2114, 2358]\n",
      "Rule  7 :  [2114, 364, 2358]\n",
      "Rule  8 :  [2098, 364, 2358]\n",
      "Rule  9 :  [2098, 364, 2114]\n",
      "Rule  10 :  [2818, 2358]\n",
      "Rule  11 :  [2114, 2818]\n",
      "Rule  12 :  [2114, 2358]\n",
      "Rule  13 :  [2098, 2818]\n",
      "Rule  14 :  [2098, 2358]\n",
      "Rule  15 :  [2098, 2114]\n",
      "Rule  16 :  [364, 2358]\n",
      "Rule  17 :  [2114, 364]\n",
      "Rule  18 :  [2098, 364]\n",
      "Rule  19 :  [2358]\n",
      "Rule  20 :  [2114]\n",
      "Rule  21 :  [2098]\n",
      "Rule  22 :  [364]\n"
     ]
    }
   ],
   "source": [
    "#APRIORI\n",
    "from apyori import apriori\n",
    "my = Chigher[['product_id','shop_id']]\n",
    "\n",
    "top_5_Chigher = []\n",
    "for x in range(5):\n",
    "    z = top_20_id_freq_Chigher[x]\n",
    "    a,b = z\n",
    "    top_5_Chigher.append(a)\n",
    "\n",
    "my = my[my['product_id'].isin(top_5_Chigher)]\n",
    "my.set_index('shop_id', inplace=True)\n",
    "\n",
    "my.sort_index(inplace=True)\n",
    "my_C_higher_top_5_product_ids = my\n",
    "c_higher_itemsets= [ set(my_C_higher_top_5_product_ids.loc[shop_id_index].values.flatten()) for shop_id_index in my_C_higher_top_5_product_ids.index]\n",
    "\n",
    "association_rules2 = apriori(c_higher_itemsets, min_confidence=0.50, min_lift=1.0, max_length=5)\n",
    "association_results2 = list(association_rules2)\n",
    "\n",
    "# for x in range(20):\n",
    "#     print(association_results[x])\n",
    "listRules2 = [list(association_results2[i][0]) for i in range(0,len(association_results2))]\n",
    "listRules2.reverse()\n",
    "print('Total rules: ',len(listRules2))\n",
    "for x in range(22):\n",
    "    print('Rule ',x+1, \": \",listRules2[x])"
   ]
  },
  {
   "cell_type": "markdown",
   "metadata": {},
   "source": [
    "#### Jaccard Similarity"
   ]
  },
  {
   "cell_type": "code",
   "execution_count": 44,
   "metadata": {},
   "outputs": [
    {
     "data": {
      "text/html": [
       "<div>\n",
       "<style scoped>\n",
       "    .dataframe tbody tr th:only-of-type {\n",
       "        vertical-align: middle;\n",
       "    }\n",
       "\n",
       "    .dataframe tbody tr th {\n",
       "        vertical-align: top;\n",
       "    }\n",
       "\n",
       "    .dataframe thead th {\n",
       "        text-align: right;\n",
       "    }\n",
       "</style>\n",
       "<table border=\"1\" class=\"dataframe\">\n",
       "  <thead>\n",
       "    <tr style=\"text-align: right;\">\n",
       "      <th></th>\n",
       "      <th>Items</th>\n",
       "      <th>Confidence</th>\n",
       "      <th>list</th>\n",
       "    </tr>\n",
       "  </thead>\n",
       "  <tbody>\n",
       "    <tr>\n",
       "      <th>0</th>\n",
       "      <td>{112}</td>\n",
       "      <td>1.0</td>\n",
       "      <td>[112]</td>\n",
       "    </tr>\n",
       "    <tr>\n",
       "      <th>73</th>\n",
       "      <td>{2785, 2019, 1645}</td>\n",
       "      <td>1.0</td>\n",
       "      <td>[2785, 2019, 1645]</td>\n",
       "    </tr>\n",
       "    <tr>\n",
       "      <th>102</th>\n",
       "      <td>{112, 3896, 2019, 1645}</td>\n",
       "      <td>1.0</td>\n",
       "      <td>[112, 3896, 2019, 1645]</td>\n",
       "    </tr>\n",
       "    <tr>\n",
       "      <th>97</th>\n",
       "      <td>{112, 2785, 2019, 1645}</td>\n",
       "      <td>1.0</td>\n",
       "      <td>[112, 2785, 2019, 1645]</td>\n",
       "    </tr>\n",
       "    <tr>\n",
       "      <th>89</th>\n",
       "      <td>{3896, 2785, 2019}</td>\n",
       "      <td>1.0</td>\n",
       "      <td>[3896, 2785, 2019]</td>\n",
       "    </tr>\n",
       "  </tbody>\n",
       "</table>\n",
       "</div>"
      ],
      "text/plain": [
       "                       Items  Confidence                     list\n",
       "0                      {112}         1.0                    [112]\n",
       "73        {2785, 2019, 1645}         1.0       [2785, 2019, 1645]\n",
       "102  {112, 3896, 2019, 1645}         1.0  [112, 3896, 2019, 1645]\n",
       "97   {112, 2785, 2019, 1645}         1.0  [112, 2785, 2019, 1645]\n",
       "89        {3896, 2785, 2019}         1.0       [3896, 2785, 2019]"
      ]
     },
     "execution_count": 44,
     "metadata": {},
     "output_type": "execute_result"
    }
   ],
   "source": [
    "#FIND TOP 20 ITEMSET BY CONFIDENCE\n",
    "#Unpack apyori object\n",
    "df1 = pd.DataFrame(columns=('Items','Confidence'))\n",
    "Confidence = []\n",
    "Items = []\n",
    "\n",
    "for RelationRecord in association_results:\n",
    "    for ordered_stat in RelationRecord.ordered_statistics:\n",
    "        Items.append(RelationRecord.items)\n",
    "        Confidence.append(ordered_stat.confidence)\n",
    "\n",
    "df1['Items'] = list(map(set, Items))                                   \n",
    "df1['Confidence'] = Confidence\n",
    "df1= df1.sort_values(by=['Confidence'],  ascending=False)\n",
    "\n",
    "def get_items(row):\n",
    "    i=list(row['Items'])\n",
    "    return i\n",
    "\n",
    "df1['list'] = df1.apply(get_items, axis=1)\n",
    "\n",
    "#Drop Duplicates\n",
    "df1= df1[~df1.astype(str).duplicated(subset = 'Items',keep='first')]\n",
    "df1=df1[:20]\n",
    "df1.head()"
   ]
  },
  {
   "cell_type": "code",
   "execution_count": 45,
   "metadata": {},
   "outputs": [
    {
     "data": {
      "text/html": [
       "<div>\n",
       "<style scoped>\n",
       "    .dataframe tbody tr th:only-of-type {\n",
       "        vertical-align: middle;\n",
       "    }\n",
       "\n",
       "    .dataframe tbody tr th {\n",
       "        vertical-align: top;\n",
       "    }\n",
       "\n",
       "    .dataframe thead th {\n",
       "        text-align: right;\n",
       "    }\n",
       "</style>\n",
       "<table border=\"1\" class=\"dataframe\">\n",
       "  <thead>\n",
       "    <tr style=\"text-align: right;\">\n",
       "      <th></th>\n",
       "      <th>Items</th>\n",
       "      <th>Confidence</th>\n",
       "      <th>list</th>\n",
       "    </tr>\n",
       "  </thead>\n",
       "  <tbody>\n",
       "    <tr>\n",
       "      <th>65</th>\n",
       "      <td>{2098, 2818, 2114, 2358}</td>\n",
       "      <td>1.0</td>\n",
       "      <td>[2098, 2818, 2114, 2358]</td>\n",
       "    </tr>\n",
       "    <tr>\n",
       "      <th>41</th>\n",
       "      <td>{2098, 2818, 2114}</td>\n",
       "      <td>1.0</td>\n",
       "      <td>[2098, 2818, 2114]</td>\n",
       "    </tr>\n",
       "    <tr>\n",
       "      <th>46</th>\n",
       "      <td>{2114, 2818, 2358}</td>\n",
       "      <td>1.0</td>\n",
       "      <td>[2114, 2818, 2358]</td>\n",
       "    </tr>\n",
       "    <tr>\n",
       "      <th>23</th>\n",
       "      <td>{2098, 364, 2114}</td>\n",
       "      <td>1.0</td>\n",
       "      <td>[2098, 364, 2114]</td>\n",
       "    </tr>\n",
       "    <tr>\n",
       "      <th>44</th>\n",
       "      <td>{2098, 2818, 2358}</td>\n",
       "      <td>1.0</td>\n",
       "      <td>[2098, 2818, 2358]</td>\n",
       "    </tr>\n",
       "  </tbody>\n",
       "</table>\n",
       "</div>"
      ],
      "text/plain": [
       "                       Items  Confidence                      list\n",
       "65  {2098, 2818, 2114, 2358}         1.0  [2098, 2818, 2114, 2358]\n",
       "41        {2098, 2818, 2114}         1.0        [2098, 2818, 2114]\n",
       "46        {2114, 2818, 2358}         1.0        [2114, 2818, 2358]\n",
       "23         {2098, 364, 2114}         1.0         [2098, 364, 2114]\n",
       "44        {2098, 2818, 2358}         1.0        [2098, 2818, 2358]"
      ]
     },
     "execution_count": 45,
     "metadata": {},
     "output_type": "execute_result"
    }
   ],
   "source": [
    "#Unpack apyori object\n",
    "df2 = pd.DataFrame(columns=('Items','Confidence'))\n",
    "\n",
    "Confidence = []\n",
    "Items = []\n",
    "\n",
    "for RelationRecord in association_results2:\n",
    "    for ordered_stat in RelationRecord.ordered_statistics:\n",
    "        Items.append(RelationRecord.items)\n",
    "        Confidence.append(ordered_stat.confidence)\n",
    "\n",
    "df2['Items'] = list(map(set, Items))                                   \n",
    "df2['Confidence'] = Confidence\n",
    "df2= df2.sort_values(by=['Confidence'],  ascending=False)\n",
    "\n",
    "def get_items(row):\n",
    "    i=list(row['Items'])\n",
    "    return i\n",
    "\n",
    "df2['list'] = df2.apply(get_items, axis=1)\n",
    "\n",
    "#Drop Duplicates\n",
    "df2= df2[~df2.astype(str).duplicated(subset = 'Items',keep='first')]\n",
    "df2=df2[:20]\n",
    "df2.head()"
   ]
  },
  {
   "cell_type": "code",
   "execution_count": 46,
   "metadata": {},
   "outputs": [
    {
     "name": "stdout",
     "output_type": "stream",
     "text": [
      "0.0\n",
      "0.0\n"
     ]
    }
   ],
   "source": [
    "#JACCARD SIMILARITY\n",
    "def jaccard(list1, list2):\n",
    "    intersection = len(list(set(list1).intersection(list2)))\n",
    "    union = (len(list1) + len(list2)) - intersection\n",
    "    return float(intersection) / union\n",
    "\n",
    "similarity = []\n",
    "Clower_list = df1['list']\n",
    "Chigher_list = df2['list']\n",
    "\n",
    "for x in Clower_list:\n",
    "    for y in Chigher_list:\n",
    "        similarity.append(jaccard(x,y))\n",
    "similarity = sorted(similarity)\n",
    "print(similarity[0])\n",
    "print(similarity[-1])"
   ]
  },
  {
   "cell_type": "markdown",
   "metadata": {
    "colab_type": "text",
    "id": "zrSY5oTWOmrI"
   },
   "source": [
    "# 3 Submission\n",
    "\n",
    "All submissions should be made electronically by 11:59 PM EST on October 5, 2020.\n",
    "\n",
    "Here are the main deliverables:\n",
    "\n",
    "* A PDF version of your executed Jupyter notebook\n",
    "* The actual Jupyter notebook, so that we can check your results"
   ]
  },
  {
   "cell_type": "markdown",
   "metadata": {
    "colab_type": "text",
    "id": "asF8o9s7TsbU"
   },
   "source": [
    "# 4 Academic Honesty\n",
    "\n",
    "Unless otherwise specified in the homework, all submitted work must be your own original work. Any excerpts, statements, or phrases from the work of others must be clearly identified as a quotation, and a proper citation provided. Any violation of the University's policies on Academic and Professional Integrity may result in serious penalties, which might range\n",
    "from failing a homework, to failing a course, to being expelled from the program. Violations of academic and professional integrity will be reported to the concerned authorities. Consequences of academic misconduct are determined by the faculty instructor; additional sanctions may be imposed."
   ]
  },
  {
   "cell_type": "markdown",
   "metadata": {
    "colab_type": "text",
    "id": "UKDN86l4aEDB"
   },
   "source": [
    "# 5 References\n",
    "\n",
    "> Pennacchioli et al. \"Explaining the product range effect in purchase data\" (2013) BigData. DOI: [doi.org/10.1109/BigData.2013.6691634](https://doi.org/10.1109/BigData.2013.6691634)\n",
    "\n",
    "> Reference for ttest: https://towardsdatascience.com/inferential-statistics-series-t-test-using-numpy-2718f8f9bf2f\n"
   ]
  }
 ],
 "metadata": {
  "colab": {
   "collapsed_sections": [
    "U5Da6VaNY1Ct",
    "S7ldmpJ2ZvmA",
    "zr_WxwimdMWP",
    "0k97b-tNe6UL"
   ],
   "name": "HW1 - SI671 - How Far Would you Go for Italian Mozzarella?",
   "provenance": []
  },
  "kernelspec": {
   "display_name": "Python 3",
   "language": "python",
   "name": "python3"
  },
  "language_info": {
   "codemirror_mode": {
    "name": "ipython",
    "version": 3
   },
   "file_extension": ".py",
   "mimetype": "text/x-python",
   "name": "python",
   "nbconvert_exporter": "python",
   "pygments_lexer": "ipython3",
   "version": "3.7.1"
  }
 },
 "nbformat": 4,
 "nbformat_minor": 4
}
